{
 "cells": [
  {
   "cell_type": "code",
   "execution_count": 1,
   "id": "bc5571c6",
   "metadata": {},
   "outputs": [
    {
     "ename": "FileNotFoundError",
     "evalue": "[Errno 2] No such file or directory: 'data.txt'",
     "output_type": "error",
     "traceback": [
      "\u001b[1;31m---------------------------------------------------------------------------\u001b[0m",
      "\u001b[1;31mFileNotFoundError\u001b[0m                         Traceback (most recent call last)",
      "\u001b[1;32mc:\\Users\\dhwan\\OneDrive\\Desktop\\HPC_TA\\serial_data_collection\\plotter.ipynb Cell 1\u001b[0m in \u001b[0;36m<cell line: 16>\u001b[1;34m()\u001b[0m\n\u001b[0;32m     <a href='vscode-notebook-cell:/c%3A/Users/dhwan/OneDrive/Desktop/HPC_TA/serial_data_collection/plotter.ipynb#W0sZmlsZQ%3D%3D?line=10'>11</a>\u001b[0m e2e_time \u001b[39m=\u001b[39m [[\u001b[39m0.\u001b[39m \u001b[39mfor\u001b[39;00m i \u001b[39min\u001b[39;00m \u001b[39mrange\u001b[39m(prob)] \u001b[39mfor\u001b[39;00m j \u001b[39min\u001b[39;00m \u001b[39mrange\u001b[39m(procs)]\n\u001b[0;32m     <a href='vscode-notebook-cell:/c%3A/Users/dhwan/OneDrive/Desktop/HPC_TA/serial_data_collection/plotter.ipynb#W0sZmlsZQ%3D%3D?line=11'>12</a>\u001b[0m \u001b[39m# speedup = [[0. for i in range(prob)] for j in range(procs)]\u001b[39;00m\n\u001b[0;32m     <a href='vscode-notebook-cell:/c%3A/Users/dhwan/OneDrive/Desktop/HPC_TA/serial_data_collection/plotter.ipynb#W0sZmlsZQ%3D%3D?line=12'>13</a>\u001b[0m \u001b[39m# efficiency = [[0. for i in range(prob)] for j in range(procs)]\u001b[39;00m\n\u001b[0;32m     <a href='vscode-notebook-cell:/c%3A/Users/dhwan/OneDrive/Desktop/HPC_TA/serial_data_collection/plotter.ipynb#W0sZmlsZQ%3D%3D?line=13'>14</a>\u001b[0m \n\u001b[0;32m     <a href='vscode-notebook-cell:/c%3A/Users/dhwan/OneDrive/Desktop/HPC_TA/serial_data_collection/plotter.ipynb#W0sZmlsZQ%3D%3D?line=14'>15</a>\u001b[0m \u001b[39m# file format : problem_size, processor, run_id, alg_time, e2e_time\u001b[39;00m\n\u001b[1;32m---> <a href='vscode-notebook-cell:/c%3A/Users/dhwan/OneDrive/Desktop/HPC_TA/serial_data_collection/plotter.ipynb#W0sZmlsZQ%3D%3D?line=15'>16</a>\u001b[0m \u001b[39mwith\u001b[39;00m \u001b[39mopen\u001b[39;49m(\u001b[39m'\u001b[39;49m\u001b[39mdata.txt\u001b[39;49m\u001b[39m'\u001b[39;49m,\u001b[39m'\u001b[39;49m\u001b[39mr\u001b[39;49m\u001b[39m'\u001b[39;49m) \u001b[39mas\u001b[39;00m file:\n\u001b[0;32m     <a href='vscode-notebook-cell:/c%3A/Users/dhwan/OneDrive/Desktop/HPC_TA/serial_data_collection/plotter.ipynb#W0sZmlsZQ%3D%3D?line=16'>17</a>\u001b[0m     lines \u001b[39m=\u001b[39m file\u001b[39m.\u001b[39mreadlines()\n\u001b[0;32m     <a href='vscode-notebook-cell:/c%3A/Users/dhwan/OneDrive/Desktop/HPC_TA/serial_data_collection/plotter.ipynb#W0sZmlsZQ%3D%3D?line=17'>18</a>\u001b[0m     \u001b[39mfor\u001b[39;00m line \u001b[39min\u001b[39;00m lines:\n",
      "\u001b[1;31mFileNotFoundError\u001b[0m: [Errno 2] No such file or directory: 'data.txt'"
     ]
    }
   ],
   "source": [
    "import matplotlib.pyplot as plt\n",
    "import math\n",
    "import numpy as np\n",
    "\n",
    "runs = 5\n",
    "procs = 5 #0,4,8,12,16\n",
    "prob =  7 #16,32,64,..,4096\n",
    "problem_size = [i for i in range(4,4+prob)]\n",
    " \n",
    "alg_time = [[0. for i in range(prob)] for j in range(procs)]\n",
    "e2e_time = [[0. for i in range(prob)] for j in range(procs)]\n",
    "# speedup = [[0. for i in range(prob)] for j in range(procs)]\n",
    "# efficiency = [[0. for i in range(prob)] for j in range(procs)]\n",
    "\n",
    "# file format : problem_size, processor, run_id, alg_time, e2e_time\n",
    "with open('data.txt','r') as file:\n",
    "    lines = file.readlines()\n",
    "    for line in lines:\n",
    "        words = map(float,line.split(','))\n",
    "        words = list(words)\n",
    "        #change the below line according to problem size\n",
    "        words[0] = int(math.log(words[0],2))-4\n",
    "        words[1] = int(words[1])//4\n",
    "        alg_time[words[1]][words[0]] += words[3]\n",
    "        e2e_time[words[1]][words[0]] += words[4]\n",
    "\n",
    "for i in range(procs):\n",
    "    for j in range(prob):\n",
    "        alg_time[i][j] = alg_time[i][j]/runs\n",
    "\n",
    "# for i in range(procs):\n",
    "#     for j in range(prob):\n",
    "#         speedup[i][j] = alg_time[0][j]/alg_time[i][j]\n",
    "#         if i!=0:\n",
    "#             efficiency[i][j] = speedup[i][j]/(4*i)\n",
    "\n",
    "plt.figure()\n",
    "plt.grid()\n",
    "plt.xlabel('logN')\n",
    "plt.ylabel('Mean Execution Time')\n",
    "for i in range(procs):\n",
    "    plt.plot(problem_size,alg_time[i],'o-', label = str(4*i)+' threads')\n",
    "    plt.legend()\n",
    "\n",
    "# plt.figure()\n",
    "# plt.grid()\n",
    "# plt.xlabel('logN')\n",
    "# plt.ylabel('Speedup')\n",
    "# for i in range(procs):\n",
    "#     plt.plot(problem_size,speedup[i],label=str(4*i)+' threads')\n",
    "#     plt.legend()\n",
    "# plt.figure()\n",
    "# plt.grid()\n",
    "# plt.xlabel('logN')\n",
    "# plt.ylabel('Efficiency')\n",
    "# for i in range(procs):\n",
    "#     plt.plot(problem_size,efficiency[i],label=str(4*i)+' threads')\n",
    "#     plt.legend()\n"
   ]
  },
  {
   "cell_type": "code",
   "execution_count": null,
   "id": "952ce6f2",
   "metadata": {},
   "outputs": [],
   "source": []
  }
 ],
 "metadata": {
  "kernelspec": {
   "display_name": "base",
   "language": "python",
   "name": "python3"
  },
  "language_info": {
   "codemirror_mode": {
    "name": "ipython",
    "version": 3
   },
   "file_extension": ".py",
   "mimetype": "text/x-python",
   "name": "python",
   "nbconvert_exporter": "python",
   "pygments_lexer": "ipython3",
   "version": "3.9.12"
  },
  "vscode": {
   "interpreter": {
    "hash": "c863885ee2c11519705596c9c15f176c793cefd8a44b76bbf9b335fcb78310ba"
   }
  }
 },
 "nbformat": 4,
 "nbformat_minor": 5
}
