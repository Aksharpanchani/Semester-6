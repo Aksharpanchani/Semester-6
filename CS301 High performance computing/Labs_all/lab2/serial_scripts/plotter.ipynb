{
 "cells": [
  {
   "cell_type": "code",
   "execution_count": 5,
   "id": "bc5571c6",
   "metadata": {},
   "outputs": [
    {
     "data": {
      "image/png": "[encoded data removed]",
      "text/plain": [
       "<Figure size 432x288 with 1 Axes>"
      ]
     },
     "metadata": {
      "needs_background": "light"
     },
     "output_type": "display_data"
    }
   ],
   "source": [
    "import matplotlib.pyplot as plt\n",
    "import math\n",
    "import numpy as np\n",
    "\n",
    "runs = 10\n",
    "procs = 1 #0,4,8,12,16\n",
    "prob =  7 #16,32,64,..,4096\n",
    "problem_size = [i for i in range(4,4+prob)]\n",
    " \n",
    "alg_time = [[0. for i in range(prob)] for j in range(procs)]\n",
    "e2e_time = [[0. for i in range(prob)] for j in range(procs)]\n",
    "# speedup = [[0. for i in range(prob)] for j in range(procs)]\n",
    "# efficiency = [[0. for i in range(prob)] for j in range(procs)]\n",
    "\n",
    "# file format : problem_size, processor, run_id, alg_time, e2e_time\n",
    "with open('data.txt','r') as file:\n",
    "    lines = file.readlines()\n",
    "    for line in lines:\n",
    "        words = map(float,line.split(','))\n",
    "        words = list(words)\n",
    "        #change the below line according to problem size\n",
    "        words[0] = int(math.log(words[0],2))-4\n",
    "        words[1] = int(words[1])//4\n",
    "        alg_time[words[1]][words[0]] += words[3]\n",
    "        e2e_time[words[1]][words[0]] += words[4]\n",
    "\n",
    "for i in range(procs):\n",
    "    for j in range(prob):\n",
    "        alg_time[i][j] = alg_time[i][j]/runs\n",
    "\n",
    "# for i in range(procs):\n",
    "#     for j in range(prob):\n",
    "#         speedup[i][j] = alg_time[0][j]/alg_time[i][j]\n",
    "#         if i!=0:\n",
    "#             efficiency[i][j] = speedup[i][j]/(4*i)\n",
    "\n",
    "plt.figure()\n",
    "plt.grid()\n",
    "plt.xlabel('logN')\n",
    "plt.ylabel('Mean Execution Time')\n",
    "for i in range(procs):\n",
    "    plt.plot(problem_size,alg_time[i],'o-',label='serial runtime')\n",
    "    plt.legend()\n",
    "\n",
    "# plt.figure()\n",
    "# plt.grid()\n",
    "# plt.xlabel('logN')\n",
    "# plt.ylabel('Speedup')\n",
    "# for i in range(procs):\n",
    "#     plt.plot(problem_size,speedup[i],label=str(4*i)+' threads')\n",
    "#     plt.legend()\n",
    "# plt.figure()\n",
    "# plt.grid()\n",
    "# plt.xlabel('logN')\n",
    "# plt.ylabel('Efficiency')\n",
    "# for i in range(procs):\n",
    "#     plt.plot(problem_size,efficiency[i],label=str(4*i)+' threads')\n",
    "#     plt.legend()\n"
   ]
  },
  {
   "cell_type": "code",
   "execution_count": null,
   "id": "952ce6f2",
   "metadata": {},
   "outputs": [],
   "source": []
  }
 ],
 "metadata": {
  "kernelspec": {
   "display_name": "Python 3 (ipykernel)",
   "language": "python",
   "name": "python3"
  },
  "language_info": {
   "codemirror_mode": {
    "name": "ipython",
    "version": 3
   },
   "file_extension": ".py",
   "mimetype": "text/x-python",
   "name": "python",
   "nbconvert_exporter": "python",
   "pygments_lexer": "ipython3",
   "version": "3.9.12"
  }
 },
 "nbformat": 4,
 "nbformat_minor": 5
}
